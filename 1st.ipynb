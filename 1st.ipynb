{
 "cells": [
  {
   "cell_type": "code",
   "execution_count": 1,
   "id": "c225855d",
   "metadata": {},
   "outputs": [],
   "source": [
    "class McPNeuron:\n",
    "    def __init__(self, num_inputs, activation_function):\n",
    "        self.num_inputs = num_inputs\n",
    "        self.weights = [1] * num_inputs\n",
    "        self.activation_function = activation_function.lower()\n",
    "\n",
    "        if self.activation_function == 'and':\n",
    "            self.bias = -num_inputs + 1\n",
    "        elif self.activation_function == 'or':\n",
    "            self.bias = -num_inputs + 2\n",
    "        else:\n",
    "            raise ValueError(\"Unknown activation function: {}\".format(activation_function))\n",
    "\n",
    " \n",
    "    def calculate_output(self, inputs, threshold_value):\n",
    "        weighted_sum = sum(self.weights[i] * inputs[i] for i in range(self.num_inputs))\n",
    "        weighted_sum += self.bias\n",
    "        return 1 if weighted_sum >= threshold_value else 0"
   ]
  },
  {
   "cell_type": "code",
   "execution_count": 2,
   "id": "df3ac1cc",
   "metadata": {},
   "outputs": [
    {
     "name": "stdout",
     "output_type": "stream",
     "text": [
      "Output: 1\n"
     ]
    }
   ],
   "source": [
    "inputs = [1, 1, 1,1]  # Example input values\n",
    "threshold_value = 0.5\n",
    "activation_function = 'AND'  # Example activation function\n",
    "\n",
    "neuron = McPNeuron(len(inputs), activation_function)\n",
    "output = neuron.calculate_output(inputs, threshold_value)\n",
    "print(\"Output:\", output)"
   ]
  },
  {
   "cell_type": "code",
   "execution_count": null,
   "id": "4a948ee3",
   "metadata": {},
   "outputs": [],
   "source": []
  }
 ],
 "metadata": {
  "kernelspec": {
   "display_name": "Python 3 (ipykernel)",
   "language": "python",
   "name": "python3"
  },
  "language_info": {
   "codemirror_mode": {
    "name": "ipython",
    "version": 3
   },
   "file_extension": ".py",
   "mimetype": "text/x-python",
   "name": "python",
   "nbconvert_exporter": "python",
   "pygments_lexer": "ipython3",
   "version": "3.11.5"
  }
 },
 "nbformat": 4,
 "nbformat_minor": 5
}
